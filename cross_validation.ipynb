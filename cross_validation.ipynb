{
 "cells": [
  {
   "cell_type": "code",
   "execution_count": 1,
   "id": "f44fa581-b6db-4b79-9247-adeed6504f13",
   "metadata": {},
   "outputs": [],
   "source": [
    "from utils import *  # * import all or specific functions"
   ]
  },
  {
   "cell_type": "code",
   "execution_count": 2,
   "id": "b72b8a71-3273-4b00-be6f-b49e58a82169",
   "metadata": {},
   "outputs": [],
   "source": [
    "feature_cols = [c for c in uci_df.columns if c not in ('subject','activity')]\n",
    "\n",
    "# Train-test split\n",
    "X_train = uci_train[feature_cols]\n",
    "y_train = uci_train['activity']\n",
    "X_test = uci_test[feature_cols]\n",
    "y_test = uci_test['activity']\n"
   ]
  },
  {
   "cell_type": "code",
   "execution_count": null,
   "id": "e860c95a-14ac-4fba-9e95-7889db1d79b2",
   "metadata": {},
   "outputs": [],
   "source": []
  },
  {
   "cell_type": "code",
   "execution_count": 3,
   "id": "b8b26b69-54b3-489f-9ae2-ace1aeaeff8e",
   "metadata": {},
   "outputs": [
    {
     "name": "stdout",
     "output_type": "stream",
     "text": [
      "10-fold cross-validation scores: [0.97690217 0.86684783 0.96190476 0.83945578 0.96054422 0.94557823\n",
      " 0.9755102  0.97823129 0.96734694 0.97959184]\n",
      "Mean CV accuracy: 94.52%\n"
     ]
    }
   ],
   "source": [
    "from sklearn.svm import SVC\n",
    "from sklearn.model_selection import cross_val_score\n",
    "from sklearn.preprocessing import StandardScaler\n",
    "from sklearn.pipeline import make_pipeline\n",
    "import numpy as np\n",
    "\n",
    "# Create pipeline: scale features and train linear SVM\n",
    "pipeline = make_pipeline(StandardScaler(), SVC(kernel='linear', random_state=42))\n",
    "\n",
    "# Perform 10-fold cross-validation on the training data\n",
    "cv_scores = cross_val_score(pipeline, X_train, y_train, cv=10)\n",
    "\n",
    "# Report results\n",
    "print(\"10-fold cross-validation scores:\", cv_scores)\n",
    "print(\"Mean CV accuracy: {:.2f}%\".format(np.mean(cv_scores) * 100))\n"
   ]
  },
  {
   "cell_type": "code",
   "execution_count": 4,
   "id": "2f8917c2-e555-4ae6-bfb0-129e1a92e978",
   "metadata": {},
   "outputs": [
    {
     "name": "stdout",
     "output_type": "stream",
     "text": [
      "Test set accuracy (one-time evaluation): 96.06%\n"
     ]
    }
   ],
   "source": [
    "pipeline.fit(X_train, y_train)\n",
    "test_acc = pipeline.score(X_test, y_test)\n",
    "print(\"Test set accuracy (one-time evaluation): {:.2f}%\".format(test_acc * 100))\n"
   ]
  },
  {
   "cell_type": "code",
   "execution_count": null,
   "id": "9ee0711b-0d2f-4599-99d3-3a3875e2afc1",
   "metadata": {},
   "outputs": [],
   "source": []
  },
  {
   "cell_type": "code",
   "execution_count": null,
   "id": "576cde40-ecdf-4d97-99f0-688f00c42860",
   "metadata": {},
   "outputs": [],
   "source": []
  },
  {
   "cell_type": "code",
   "execution_count": null,
   "id": "895f2b57-3e7f-4264-ab90-987d9e77d018",
   "metadata": {},
   "outputs": [],
   "source": []
  },
  {
   "cell_type": "code",
   "execution_count": null,
   "id": "455a32d2-d10a-44a4-b064-7b500d740f53",
   "metadata": {},
   "outputs": [],
   "source": []
  }
 ],
 "metadata": {
  "kernelspec": {
   "display_name": "Python 3 (ipykernel)",
   "language": "python",
   "name": "python3"
  },
  "language_info": {
   "codemirror_mode": {
    "name": "ipython",
    "version": 3
   },
   "file_extension": ".py",
   "mimetype": "text/x-python",
   "name": "python",
   "nbconvert_exporter": "python",
   "pygments_lexer": "ipython3",
   "version": "3.12.10"
  }
 },
 "nbformat": 4,
 "nbformat_minor": 5
}
