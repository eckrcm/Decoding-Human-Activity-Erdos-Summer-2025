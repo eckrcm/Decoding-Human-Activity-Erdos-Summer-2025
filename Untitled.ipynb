{
 "cells": [
  {
   "cell_type": "markdown",
   "id": "0be57dd5",
   "metadata": {},
   "source": [
    "# 10-Fold Cross Validation + Test set + SVM with linear and RBF kernels"
   ]
  },
  {
   "cell_type": "markdown",
   "id": "8482a565",
   "metadata": {},
   "source": [
    "To test generalizability of our accuracy scores results, we perform 10-Fold cross validation on the training set `uci_train` as provided by the authors. Moreover, we test the best models on the test set `uci_test`, also provided by the authors."
   ]
  },
  {
   "cell_type": "code",
   "execution_count": 1,
   "id": "f44fa581-b6db-4b79-9247-adeed6504f13",
   "metadata": {},
   "outputs": [],
   "source": [
    "from utils import *  # * import all or specific functions"
   ]
  },
  {
   "cell_type": "code",
   "execution_count": 2,
   "id": "b72b8a71-3273-4b00-be6f-b49e58a82169",
   "metadata": {},
   "outputs": [],
   "source": [
    "# get the feature columns\n",
    "feature_cols = [c for c in uci_df.columns if c not in ('subject','activity')]\n",
    "\n",
    "# Train-test split\n",
    "X_train = uci_train[feature_cols] # feature vectors only in train\n",
    "y_train = uci_train['activity'] # labels in train\n",
    "X_test = uci_test[feature_cols] # feature vectors only in test\n",
    "y_test = uci_test['activity'] # labels in test\n"
   ]
  },
  {
   "cell_type": "code",
   "execution_count": 3,
   "id": "3d8a70d7",
   "metadata": {},
   "outputs": [
    {
     "data": {
      "text/html": [
       "<div>\n",
       "<style scoped>\n",
       "    .dataframe tbody tr th:only-of-type {\n",
       "        vertical-align: middle;\n",
       "    }\n",
       "\n",
       "    .dataframe tbody tr th {\n",
       "        vertical-align: top;\n",
       "    }\n",
       "\n",
       "    .dataframe thead th {\n",
       "        text-align: right;\n",
       "    }\n",
       "</style>\n",
       "<table border=\"1\" class=\"dataframe\">\n",
       "  <thead>\n",
       "    <tr style=\"text-align: right;\">\n",
       "      <th></th>\n",
       "      <th>10-Fold CV Accuracy (%)</th>\n",
       "      <th>Test Set Accuracy (%)</th>\n",
       "    </tr>\n",
       "    <tr>\n",
       "      <th>Model</th>\n",
       "      <th></th>\n",
       "      <th></th>\n",
       "    </tr>\n",
       "  </thead>\n",
       "  <tbody>\n",
       "    <tr>\n",
       "      <th>SVM Linear</th>\n",
       "      <td>94.519133</td>\n",
       "      <td>96.063794</td>\n",
       "    </tr>\n",
       "    <tr>\n",
       "      <th>SVM RBF</th>\n",
       "      <td>93.512385</td>\n",
       "      <td>95.181541</td>\n",
       "    </tr>\n",
       "    <tr>\n",
       "      <th>Logistic Regression</th>\n",
       "      <td>94.478298</td>\n",
       "      <td>95.486936</td>\n",
       "    </tr>\n",
       "    <tr>\n",
       "      <th>Random Forest</th>\n",
       "      <td>93.322057</td>\n",
       "      <td>92.772311</td>\n",
       "    </tr>\n",
       "    <tr>\n",
       "      <th>KNN</th>\n",
       "      <td>88.072057</td>\n",
       "      <td>88.361045</td>\n",
       "    </tr>\n",
       "    <tr>\n",
       "      <th>Decision Tree</th>\n",
       "      <td>85.895722</td>\n",
       "      <td>86.257211</td>\n",
       "    </tr>\n",
       "  </tbody>\n",
       "</table>\n",
       "</div>"
      ],
      "text/plain": [
       "                     10-Fold CV Accuracy (%)  Test Set Accuracy (%)\n",
       "Model                                                              \n",
       "SVM Linear                         94.519133              96.063794\n",
       "SVM RBF                            93.512385              95.181541\n",
       "Logistic Regression                94.478298              95.486936\n",
       "Random Forest                      93.322057              92.772311\n",
       "KNN                                88.072057              88.361045\n",
       "Decision Tree                      85.895722              86.257211"
      ]
     },
     "execution_count": 3,
     "metadata": {},
     "output_type": "execute_result"
    }
   ],
   "source": [
    "# Create pipeline for each model: 1. SVM with linear kernel, 2. SVM with RBF kernel, 3. Logistic Regression,  4. Random Forest, 5. KNN, 6. Decision Tree\n",
    "pipeline_svm_linear = make_pipeline(StandardScaler(), SVC(kernel='linear', random_state=42))\n",
    "pipeline_svm_rbf = make_pipeline(StandardScaler(), SVC(kernel='rbf', C=1, random_state=42))\n",
    "pipeline_logistic = make_pipeline(StandardScaler(), LogisticRegression(random_state=42,max_iter= 1000))\n",
    "pipeline_random_forest = make_pipeline(StandardScaler(), RandomForestClassifier(n_estimators=100, random_state=42))\n",
    "pipeline_knn = make_pipeline(StandardScaler(), KNeighborsClassifier(n_neighbors=5)) # k = 5\n",
    "pipeline_decision_tree = make_pipeline(StandardScaler(), DecisionTreeClassifier(random_state=42))\n",
    "\n",
    "# Perform 10-fold cross-validation for each model\n",
    "cv_scores_svm_linear = cross_val_score(pipeline_svm_linear, X_train, y_train, cv=10)\n",
    "cv_scores_svm_rbf = cross_val_score(pipeline_svm_rbf, X_train, y_train, cv=10)\n",
    "cv_scores_logistic = cross_val_score(pipeline_logistic, X_train, y_train, cv=10)\n",
    "cv_scores_random_forest = cross_val_score(pipeline_random_forest, X_train, y_train, cv=10)\n",
    "cv_scores_knn = cross_val_score(pipeline_knn, X_train, y_train, cv=10)\n",
    "cv_scores_decision_tree = cross_val_score(pipeline_decision_tree, X_train, y_train, cv=10)\n",
    "\n",
    "# one time evaluation on the test set for each model\n",
    "## one time svm linear\n",
    "pipeline_svm_linear.fit(X_train, y_train)\n",
    "test_acc_svm_linear = pipeline_svm_linear.score(X_test, y_test)\n",
    "## one time svm rbf\n",
    "pipeline_svm_rbf.fit(X_train, y_train)\n",
    "test_acc_svm_rbf = pipeline_svm_rbf.score(X_test, y_test)\n",
    "## one time logistic regression\n",
    "pipeline_logistic.fit(X_train, y_train)\n",
    "test_acc_logistic = pipeline_logistic.score(X_test, y_test)\n",
    "## one time random forest\n",
    "pipeline_random_forest.fit(X_train, y_train)\n",
    "test_acc_random_forest = pipeline_random_forest.score(X_test, y_test)\n",
    "## one time KNN\n",
    "pipeline_knn.fit(X_train, y_train)\n",
    "test_acc_knn = pipeline_knn.score(X_test, y_test)\n",
    "## one time decision tree\n",
    "pipeline_decision_tree.fit(X_train, y_train)\n",
    "test_acc_decision_tree = pipeline_decision_tree.score(X_test, y_test)\n",
    "\n",
    "# Report the results in a table format\n",
    "results = pd.DataFrame({\n",
    "    'Model': ['SVM Linear', 'SVM RBF', 'Logistic Regression', 'Random Forest', 'KNN', 'Decision Tree'],\n",
    "    '10-Fold CV Accuracy (%)': [\n",
    "        np.mean(cv_scores_svm_linear) * 100,\n",
    "        np.mean(cv_scores_svm_rbf) * 100,\n",
    "        np.mean(cv_scores_logistic) * 100,\n",
    "        np.mean(cv_scores_random_forest) * 100,\n",
    "        np.mean(cv_scores_knn) * 100,\n",
    "        np.mean(cv_scores_decision_tree) * 100\n",
    "    ],\n",
    "    'Test Set Accuracy (%)': [\n",
    "        test_acc_svm_linear * 100,\n",
    "        test_acc_svm_rbf * 100,\n",
    "        test_acc_logistic * 100,\n",
    "        test_acc_random_forest * 100,\n",
    "        test_acc_knn * 100,\n",
    "        test_acc_decision_tree * 100\n",
    "    ]\n",
    "})\n",
    "results = results.set_index('Model')   \n",
    "\n",
    "# Display the results\n",
    "results\n"
   ]
  },
  {
   "cell_type": "markdown",
   "id": "6da44807",
   "metadata": {},
   "source": [
    "# Linear Discriminant Analysis (LDA)"
   ]
  },
  {
   "cell_type": "markdown",
   "id": "b6779993",
   "metadata": {},
   "source": [
    "Recall that in the main notebook, we performed LDA on the full dataset to embed our data into a lower dimensional space. We then trained 1-NN classifier, and validated this classifier's performance with LOO cross validation.\n",
    "\n",
    "Here, we apply LDA (with 5 components) only on the train set `X_train`, `X_train`, instead of the entire dataset. We continue to use 1-NN classifier as our model. However, this time we validate it in two ways; \n",
    "1. 10-Fold Cross validation on the train set. \n",
    "2. Validate on the test set `X_test`, `y_test`.\n"
   ]
  },
  {
   "cell_type": "code",
   "execution_count": 4,
   "id": "3a0023fb",
   "metadata": {},
   "outputs": [
    {
     "data": {
      "text/html": [
       "<div>\n",
       "<style scoped>\n",
       "    .dataframe tbody tr th:only-of-type {\n",
       "        vertical-align: middle;\n",
       "    }\n",
       "\n",
       "    .dataframe tbody tr th {\n",
       "        vertical-align: top;\n",
       "    }\n",
       "\n",
       "    .dataframe thead th {\n",
       "        text-align: right;\n",
       "    }\n",
       "</style>\n",
       "<table border=\"1\" class=\"dataframe\">\n",
       "  <thead>\n",
       "    <tr style=\"text-align: right;\">\n",
       "      <th></th>\n",
       "      <th>10-Fold CV Accuracy (%)</th>\n",
       "      <th>Test Set Accuracy (%)</th>\n",
       "    </tr>\n",
       "    <tr>\n",
       "      <th>Model</th>\n",
       "      <th></th>\n",
       "      <th></th>\n",
       "    </tr>\n",
       "  </thead>\n",
       "  <tbody>\n",
       "    <tr>\n",
       "      <th>LDA 1-NN</th>\n",
       "      <td>97.987097</td>\n",
       "      <td>95.554801</td>\n",
       "    </tr>\n",
       "  </tbody>\n",
       "</table>\n",
       "</div>"
      ],
      "text/plain": [
       "          10-Fold CV Accuracy (%)  Test Set Accuracy (%)\n",
       "Model                                                   \n",
       "LDA 1-NN                97.987097              95.554801"
      ]
     },
     "execution_count": 4,
     "metadata": {},
     "output_type": "execute_result"
    }
   ],
   "source": [
    "# Perform LDA on the train set\n",
    "lda = LinearDiscriminantAnalysis(n_components=5).fit(X_train, y_train)  # LDA with 5 components\n",
    "X_train_lda = lda.transform(X_train) # this is now the reduced feature space (5 components)\n",
    "\n",
    "# train a 1-NN classifier on the LDA transformed train set\n",
    "pipeline_lda_1nn = make_pipeline(StandardScaler(), KNeighborsClassifier(n_neighbors = 1))\n",
    "\n",
    "# Perform 10-fold cross-validation\n",
    "cv_scores_lda_1nn = cross_val_score(pipeline_lda_1nn, X_train_lda, y_train, cv=10)\n",
    "\n",
    "# one time evaluation on the test set\n",
    "X_test_lda = lda.transform(X_test)  # transform the test set using the same LDA model: the LDA axes are learned only from the training set.\n",
    "pipeline_lda_1nn.fit(X_train_lda, y_train)  # fit the pipeline on the LDA-transformed train set\n",
    "test_acc_lda_1nn = pipeline_lda_1nn.score(X_test_lda, y_test)\n",
    "\n",
    "# Report the results\n",
    "lda_results = pd.DataFrame({\n",
    "    'Model': ['LDA 1-NN'],\n",
    "    '10-Fold CV Accuracy (%)': [np.mean(cv_scores_lda_1nn) * 100],\n",
    "    'Test Set Accuracy (%)': [test_acc_lda_1nn * 100]\n",
    "})\n",
    "lda_results = lda_results.set_index('Model')\n",
    "lda_results\n",
    "\n",
    "\n"
   ]
  },
  {
   "cell_type": "code",
   "execution_count": null,
   "id": "8992f63a",
   "metadata": {},
   "outputs": [],
   "source": []
  }
 ],
 "metadata": {
  "kernelspec": {
   "display_name": "erdos_summer_2025",
   "language": "python",
   "name": "python3"
  },
  "language_info": {
   "codemirror_mode": {
    "name": "ipython",
    "version": 3
   },
   "file_extension": ".py",
   "mimetype": "text/x-python",
   "name": "python",
   "nbconvert_exporter": "python",
   "pygments_lexer": "ipython3",
   "version": "3.12.10"
  }
 },
 "nbformat": 4,
 "nbformat_minor": 5
}
