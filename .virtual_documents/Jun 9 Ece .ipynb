import pandas as pd
from collections import defaultdict
from collections import Counter
import os
import numpy as np
import matplotlib.pyplot as plt
import plotly.express as px
from sklearn.decomposition import PCA


uci_test = pd.read_csv('./Data/UCI HAR Data Frame/uci_test.csv')
uci_train = pd.read_csv('./Data/UCI HAR Data Frame/uci_train.csv')
uci_df = pd.concat([uci_train,uci_test])


uci_df


feature_cols = [c for c in uci_df.columns if c not in ('subject','activity')]
X = uci_df[feature_cols]
y = uci_df['activity']


pca = PCA(n_components=3, random_state=43)
X_pca = pca.fit_transform(X)

df_pca = pd.DataFrame(X_pca, columns=['PC1','PC2','PC3'])
df_pca['activity'] = y.values

import plotly.express as px
fig = px.scatter_3d(df_pca, x='PC1', y='PC2', z='PC3',
                    color='activity')
fig.update_traces(marker_line_color='black', marker_line_width=0.5, marker_size=4)
fig.update_layout(width=700, height=700)
fig.show()


corr_matrix = X.corr().abs()
fig, ax = plt.subplots(figsize=(12,10))
cax = ax.matshow(corr_matrix, cmap='viridis', vmin=0, vmax=1)

fig.colorbar(cax)
plt.title('Correlation HeatMap', pad=20)
plt.tight_layout()
plt.show()


mask = np.triu(np.ones(corr_matrix.shape), k=1).astype(bool)
upper = corr_matrix.where(mask)
to_drop = [col for col in upper.columns if any(upper[col] > 0.9)]
X_reduced = X.drop(columns=to_drop).copy()
print(f'Dropped {len(to_drop)} features.')
X_reduced


pca = PCA(n_components=3, random_state=43)
X_pca = pca.fit_transform(X_reduced)

df_pca = pd.DataFrame(X_pca, columns=['PC1','PC2','PC3'])
df_pca['activity'] = y.values

import plotly.express as px
fig = px.scatter_3d(df_pca, x='PC1', y='PC2', z='PC3',
                    color='activity')
fig.update_traces(marker_line_color='black', marker_line_width=0.5, marker_size=4)
fig.update_layout(width=1000, height=1000)
fig.show()


## what drives the PC1 direction? 
loadings = pd.Series(pca.components_[0], index=X_reduced.columns)
sorted_loadings = loadings.abs().sort_values(ascending=False)
top_feats = sorted_loadings.head(10).index 
print(loadings[top_feats])


entropy = (c for c in X.columns if "tBodyAcc-entropy()-" in c)
X_ent = X[entropy]

df_plot = X_ent.copy()
df_plot['activity'] = y.values 

fig = px.scatter_3d(df_plot,
    x='tBodyAcc-entropy()-X',
    y='tBodyAcc-entropy()-Y',
    z='tBodyAcc-entropy()-Z',
    color='activity')

fig.update_traces(
    marker_line_color='black', 
    marker_line_width=0.5,     
    marker_size=4)

fig.update_layout(
    scene=dict(
        xaxis_title='X',
        yaxis_title='Y',
        zaxis_title='Z'),width=1000,height=1000)

fig.show()



